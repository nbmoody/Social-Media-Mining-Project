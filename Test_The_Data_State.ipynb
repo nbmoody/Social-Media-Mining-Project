{
 "cells": [
  {
   "cell_type": "markdown",
   "metadata": {},
   "source": [
    "# Test the state of the dataset and backup\n",
    "This script tests to ensure that the dataset and it's backup are accumulating correctly."
   ]
  },
  {
   "cell_type": "code",
   "execution_count": 26,
   "metadata": {
    "collapsed": true
   },
   "outputs": [],
   "source": [
    "import pickle as pkl\n",
    "import pandas as pd\n",
    "import os"
   ]
  },
  {
   "cell_type": "code",
   "execution_count": 27,
   "metadata": {},
   "outputs": [],
   "source": [
    "with open(\"ProjectData.pkl\", \"rb\") as file:\n",
    "    pdata = pkl.load(file)\n",
    "file.close()"
   ]
  },
  {
   "cell_type": "code",
   "execution_count": 28,
   "metadata": {},
   "outputs": [
    {
     "data": {
      "text/html": [
       "<div>\n",
       "<table border=\"1\" class=\"dataframe\">\n",
       "  <thead>\n",
       "    <tr style=\"text-align: right;\">\n",
       "      <th></th>\n",
       "      <th>School</th>\n",
       "      <th>Text</th>\n",
       "      <th>Location</th>\n",
       "      <th>Time</th>\n",
       "    </tr>\n",
       "  </thead>\n",
       "  <tbody>\n",
       "    <tr>\n",
       "      <th>0</th>\n",
       "      <td>Indiana University</td>\n",
       "      <td>RT @Prospects_IN: Indiana Prospects Scout Day ...</td>\n",
       "      <td>None</td>\n",
       "      <td>2017-09-26 02:30:08</td>\n",
       "    </tr>\n",
       "    <tr>\n",
       "      <th>1</th>\n",
       "      <td>Indiana University</td>\n",
       "      <td>RT @loganmichael99: Excited to announce that I...</td>\n",
       "      <td>None</td>\n",
       "      <td>2017-09-26 02:27:22</td>\n",
       "    </tr>\n",
       "    <tr>\n",
       "      <th>2</th>\n",
       "      <td>Indiana University</td>\n",
       "      <td>RT @Hgrooo8: Very blessed and humbled to annou...</td>\n",
       "      <td>None</td>\n",
       "      <td>2017-09-26 02:26:24</td>\n",
       "    </tr>\n",
       "    <tr>\n",
       "      <th>3</th>\n",
       "      <td>Indiana University</td>\n",
       "      <td>Thoughts and prayers to our sisters at Indiana...</td>\n",
       "      <td>None</td>\n",
       "      <td>2017-09-26 02:17:38</td>\n",
       "    </tr>\n",
       "    <tr>\n",
       "      <th>4</th>\n",
       "      <td>Indiana University</td>\n",
       "      <td>RT @MPA_Vikings: @hordefb with the win over In...</td>\n",
       "      <td>None</td>\n",
       "      <td>2017-09-26 02:11:10</td>\n",
       "    </tr>\n",
       "  </tbody>\n",
       "</table>\n",
       "</div>"
      ],
      "text/plain": [
       "               School                                               Text  \\\n",
       "0  Indiana University  RT @Prospects_IN: Indiana Prospects Scout Day ...   \n",
       "1  Indiana University  RT @loganmichael99: Excited to announce that I...   \n",
       "2  Indiana University  RT @Hgrooo8: Very blessed and humbled to annou...   \n",
       "3  Indiana University  Thoughts and prayers to our sisters at Indiana...   \n",
       "4  Indiana University  RT @MPA_Vikings: @hordefb with the win over In...   \n",
       "\n",
       "  Location                Time  \n",
       "0     None 2017-09-26 02:30:08  \n",
       "1     None 2017-09-26 02:27:22  \n",
       "2     None 2017-09-26 02:26:24  \n",
       "3     None 2017-09-26 02:17:38  \n",
       "4     None 2017-09-26 02:11:10  "
      ]
     },
     "execution_count": 28,
     "metadata": {},
     "output_type": "execute_result"
    }
   ],
   "source": [
    "pdata.head()"
   ]
  },
  {
   "cell_type": "code",
   "execution_count": 29,
   "metadata": {},
   "outputs": [
    {
     "data": {
      "text/plain": [
       "(2800, 4)"
      ]
     },
     "execution_count": 29,
     "metadata": {},
     "output_type": "execute_result"
    }
   ],
   "source": [
    "pdata.shape"
   ]
  },
  {
   "cell_type": "code",
   "execution_count": 30,
   "metadata": {},
   "outputs": [
    {
     "data": {
      "text/html": [
       "<div>\n",
       "<table border=\"1\" class=\"dataframe\">\n",
       "  <thead>\n",
       "    <tr style=\"text-align: right;\">\n",
       "      <th>col_0</th>\n",
       "      <th>School</th>\n",
       "    </tr>\n",
       "    <tr>\n",
       "      <th>School</th>\n",
       "      <th></th>\n",
       "    </tr>\n",
       "  </thead>\n",
       "  <tbody>\n",
       "    <tr>\n",
       "      <th>Indiana University</th>\n",
       "      <td>200</td>\n",
       "    </tr>\n",
       "    <tr>\n",
       "      <th>Michigan State University</th>\n",
       "      <td>200</td>\n",
       "    </tr>\n",
       "    <tr>\n",
       "      <th>Northwestern University</th>\n",
       "      <td>200</td>\n",
       "    </tr>\n",
       "    <tr>\n",
       "      <th>Ohio State University</th>\n",
       "      <td>200</td>\n",
       "    </tr>\n",
       "    <tr>\n",
       "      <th>Penn State</th>\n",
       "      <td>200</td>\n",
       "    </tr>\n",
       "    <tr>\n",
       "      <th>Purdue University</th>\n",
       "      <td>200</td>\n",
       "    </tr>\n",
       "    <tr>\n",
       "      <th>Rutgers University</th>\n",
       "      <td>200</td>\n",
       "    </tr>\n",
       "    <tr>\n",
       "      <th>University of Illinois</th>\n",
       "      <td>200</td>\n",
       "    </tr>\n",
       "    <tr>\n",
       "      <th>University of Iowa</th>\n",
       "      <td>200</td>\n",
       "    </tr>\n",
       "    <tr>\n",
       "      <th>University of Maryland</th>\n",
       "      <td>200</td>\n",
       "    </tr>\n",
       "    <tr>\n",
       "      <th>University of Michigan</th>\n",
       "      <td>200</td>\n",
       "    </tr>\n",
       "    <tr>\n",
       "      <th>University of Minnesota</th>\n",
       "      <td>200</td>\n",
       "    </tr>\n",
       "    <tr>\n",
       "      <th>University of Nebraska</th>\n",
       "      <td>200</td>\n",
       "    </tr>\n",
       "    <tr>\n",
       "      <th>University of Wisconsin</th>\n",
       "      <td>200</td>\n",
       "    </tr>\n",
       "  </tbody>\n",
       "</table>\n",
       "</div>"
      ],
      "text/plain": [
       "col_0                      School\n",
       "School                           \n",
       "Indiana University            200\n",
       "Michigan State University     200\n",
       "Northwestern University       200\n",
       "Ohio State University         200\n",
       "Penn State                    200\n",
       "Purdue University             200\n",
       "Rutgers University            200\n",
       "University of Illinois        200\n",
       "University of Iowa            200\n",
       "University of Maryland        200\n",
       "University of Michigan        200\n",
       "University of Minnesota       200\n",
       "University of Nebraska        200\n",
       "University of Wisconsin       200"
      ]
     },
     "execution_count": 30,
     "metadata": {},
     "output_type": "execute_result"
    }
   ],
   "source": [
    "pd.crosstab(index=pdata.School, columns=\"School\")"
   ]
  },
  {
   "cell_type": "code",
   "execution_count": 31,
   "metadata": {
    "collapsed": true
   },
   "outputs": [],
   "source": [
    "with open(\"BackupDataset.pkl\", \"rb\") as file:\n",
    "    bup = pkl.load(file)\n",
    "file.close()"
   ]
  },
  {
   "cell_type": "code",
   "execution_count": 32,
   "metadata": {},
   "outputs": [
    {
     "data": {
      "text/html": [
       "<div>\n",
       "<table border=\"1\" class=\"dataframe\">\n",
       "  <thead>\n",
       "    <tr style=\"text-align: right;\">\n",
       "      <th></th>\n",
       "      <th>School</th>\n",
       "      <th>Text</th>\n",
       "      <th>Location</th>\n",
       "      <th>Time</th>\n",
       "    </tr>\n",
       "  </thead>\n",
       "  <tbody>\n",
       "    <tr>\n",
       "      <th>0</th>\n",
       "      <td>Indiana University</td>\n",
       "      <td>RT @Prospects_IN: Indiana Prospects Scout Day ...</td>\n",
       "      <td>None</td>\n",
       "      <td>2017-09-26 02:30:08</td>\n",
       "    </tr>\n",
       "    <tr>\n",
       "      <th>1</th>\n",
       "      <td>Indiana University</td>\n",
       "      <td>RT @loganmichael99: Excited to announce that I...</td>\n",
       "      <td>None</td>\n",
       "      <td>2017-09-26 02:27:22</td>\n",
       "    </tr>\n",
       "    <tr>\n",
       "      <th>2</th>\n",
       "      <td>Indiana University</td>\n",
       "      <td>RT @Hgrooo8: Very blessed and humbled to annou...</td>\n",
       "      <td>None</td>\n",
       "      <td>2017-09-26 02:26:24</td>\n",
       "    </tr>\n",
       "    <tr>\n",
       "      <th>3</th>\n",
       "      <td>Indiana University</td>\n",
       "      <td>Thoughts and prayers to our sisters at Indiana...</td>\n",
       "      <td>None</td>\n",
       "      <td>2017-09-26 02:17:38</td>\n",
       "    </tr>\n",
       "    <tr>\n",
       "      <th>4</th>\n",
       "      <td>Indiana University</td>\n",
       "      <td>RT @MPA_Vikings: @hordefb with the win over In...</td>\n",
       "      <td>None</td>\n",
       "      <td>2017-09-26 02:11:10</td>\n",
       "    </tr>\n",
       "  </tbody>\n",
       "</table>\n",
       "</div>"
      ],
      "text/plain": [
       "               School                                               Text  \\\n",
       "0  Indiana University  RT @Prospects_IN: Indiana Prospects Scout Day ...   \n",
       "1  Indiana University  RT @loganmichael99: Excited to announce that I...   \n",
       "2  Indiana University  RT @Hgrooo8: Very blessed and humbled to annou...   \n",
       "3  Indiana University  Thoughts and prayers to our sisters at Indiana...   \n",
       "4  Indiana University  RT @MPA_Vikings: @hordefb with the win over In...   \n",
       "\n",
       "  Location                Time  \n",
       "0     None 2017-09-26 02:30:08  \n",
       "1     None 2017-09-26 02:27:22  \n",
       "2     None 2017-09-26 02:26:24  \n",
       "3     None 2017-09-26 02:17:38  \n",
       "4     None 2017-09-26 02:11:10  "
      ]
     },
     "execution_count": 32,
     "metadata": {},
     "output_type": "execute_result"
    }
   ],
   "source": [
    "bup.head()"
   ]
  },
  {
   "cell_type": "code",
   "execution_count": 33,
   "metadata": {},
   "outputs": [
    {
     "data": {
      "text/plain": [
       "(2800, 4)"
      ]
     },
     "execution_count": 33,
     "metadata": {},
     "output_type": "execute_result"
    }
   ],
   "source": [
    "bup.shape"
   ]
  },
  {
   "cell_type": "code",
   "execution_count": 34,
   "metadata": {},
   "outputs": [
    {
     "data": {
      "text/html": [
       "<div>\n",
       "<table border=\"1\" class=\"dataframe\">\n",
       "  <thead>\n",
       "    <tr style=\"text-align: right;\">\n",
       "      <th>col_0</th>\n",
       "      <th>School</th>\n",
       "    </tr>\n",
       "    <tr>\n",
       "      <th>School</th>\n",
       "      <th></th>\n",
       "    </tr>\n",
       "  </thead>\n",
       "  <tbody>\n",
       "    <tr>\n",
       "      <th>Indiana University</th>\n",
       "      <td>200</td>\n",
       "    </tr>\n",
       "    <tr>\n",
       "      <th>Michigan State University</th>\n",
       "      <td>200</td>\n",
       "    </tr>\n",
       "    <tr>\n",
       "      <th>Northwestern University</th>\n",
       "      <td>200</td>\n",
       "    </tr>\n",
       "    <tr>\n",
       "      <th>Ohio State University</th>\n",
       "      <td>200</td>\n",
       "    </tr>\n",
       "    <tr>\n",
       "      <th>Penn State</th>\n",
       "      <td>200</td>\n",
       "    </tr>\n",
       "    <tr>\n",
       "      <th>Purdue University</th>\n",
       "      <td>200</td>\n",
       "    </tr>\n",
       "    <tr>\n",
       "      <th>Rutgers University</th>\n",
       "      <td>200</td>\n",
       "    </tr>\n",
       "    <tr>\n",
       "      <th>University of Illinois</th>\n",
       "      <td>200</td>\n",
       "    </tr>\n",
       "    <tr>\n",
       "      <th>University of Iowa</th>\n",
       "      <td>200</td>\n",
       "    </tr>\n",
       "    <tr>\n",
       "      <th>University of Maryland</th>\n",
       "      <td>200</td>\n",
       "    </tr>\n",
       "    <tr>\n",
       "      <th>University of Michigan</th>\n",
       "      <td>200</td>\n",
       "    </tr>\n",
       "    <tr>\n",
       "      <th>University of Minnesota</th>\n",
       "      <td>200</td>\n",
       "    </tr>\n",
       "    <tr>\n",
       "      <th>University of Nebraska</th>\n",
       "      <td>200</td>\n",
       "    </tr>\n",
       "    <tr>\n",
       "      <th>University of Wisconsin</th>\n",
       "      <td>200</td>\n",
       "    </tr>\n",
       "  </tbody>\n",
       "</table>\n",
       "</div>"
      ],
      "text/plain": [
       "col_0                      School\n",
       "School                           \n",
       "Indiana University            200\n",
       "Michigan State University     200\n",
       "Northwestern University       200\n",
       "Ohio State University         200\n",
       "Penn State                    200\n",
       "Purdue University             200\n",
       "Rutgers University            200\n",
       "University of Illinois        200\n",
       "University of Iowa            200\n",
       "University of Maryland        200\n",
       "University of Michigan        200\n",
       "University of Minnesota       200\n",
       "University of Nebraska        200\n",
       "University of Wisconsin       200"
      ]
     },
     "execution_count": 34,
     "metadata": {},
     "output_type": "execute_result"
    }
   ],
   "source": [
    "pd.crosstab(index=bup.School, columns=\"School\")"
   ]
  }
 ],
 "metadata": {
  "kernelspec": {
   "display_name": "Python 3",
   "language": "python",
   "name": "python3"
  },
  "language_info": {
   "codemirror_mode": {
    "name": "ipython",
    "version": 3
   },
   "file_extension": ".py",
   "mimetype": "text/x-python",
   "name": "python",
   "nbconvert_exporter": "python",
   "pygments_lexer": "ipython3",
   "version": "3.6.0"
  }
 },
 "nbformat": 4,
 "nbformat_minor": 2
}
